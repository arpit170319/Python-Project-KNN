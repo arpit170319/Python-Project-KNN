{
 "cells": [
  {
   "cell_type": "code",
   "execution_count": 2,
   "metadata": {},
   "outputs": [],
   "source": [
    "### Load in necessary libraries for data input and normalization\n",
    "%matplotlib inline\n",
    "import numpy as np\n",
    "import pandas as pd\n",
    "import matplotlib.pyplot as plt\n",
    "\n",
    "### load in and normalize the dataset\n",
    "dataset = pd.read_csv('IBM.csv')"
   ]
  },
  {
   "cell_type": "code",
   "execution_count": 3,
   "metadata": {},
   "outputs": [
    {
     "data": {
      "text/html": [
       "<div>\n",
       "<style scoped>\n",
       "    .dataframe tbody tr th:only-of-type {\n",
       "        vertical-align: middle;\n",
       "    }\n",
       "\n",
       "    .dataframe tbody tr th {\n",
       "        vertical-align: top;\n",
       "    }\n",
       "\n",
       "    .dataframe thead th {\n",
       "        text-align: right;\n",
       "    }\n",
       "</style>\n",
       "<table border=\"1\" class=\"dataframe\">\n",
       "  <thead>\n",
       "    <tr style=\"text-align: right;\">\n",
       "      <th></th>\n",
       "      <th>Date</th>\n",
       "      <th>Open</th>\n",
       "      <th>High</th>\n",
       "      <th>Low</th>\n",
       "      <th>Close</th>\n",
       "      <th>Adj Close</th>\n",
       "      <th>Volume</th>\n",
       "    </tr>\n",
       "  </thead>\n",
       "  <tbody>\n",
       "    <tr>\n",
       "      <th>0</th>\n",
       "      <td>2012-04-30</td>\n",
       "      <td>206.710007</td>\n",
       "      <td>207.960007</td>\n",
       "      <td>206.320007</td>\n",
       "      <td>207.080002</td>\n",
       "      <td>171.139999</td>\n",
       "      <td>2773200</td>\n",
       "    </tr>\n",
       "    <tr>\n",
       "      <th>1</th>\n",
       "      <td>2012-05-01</td>\n",
       "      <td>207.179993</td>\n",
       "      <td>208.929993</td>\n",
       "      <td>206.710007</td>\n",
       "      <td>208.000000</td>\n",
       "      <td>171.900360</td>\n",
       "      <td>2715900</td>\n",
       "    </tr>\n",
       "    <tr>\n",
       "      <th>2</th>\n",
       "      <td>2012-05-02</td>\n",
       "      <td>206.970001</td>\n",
       "      <td>208.270004</td>\n",
       "      <td>206.910004</td>\n",
       "      <td>208.059998</td>\n",
       "      <td>171.949890</td>\n",
       "      <td>2360300</td>\n",
       "    </tr>\n",
       "    <tr>\n",
       "      <th>3</th>\n",
       "      <td>2012-05-03</td>\n",
       "      <td>208.270004</td>\n",
       "      <td>208.919998</td>\n",
       "      <td>206.550003</td>\n",
       "      <td>207.240005</td>\n",
       "      <td>171.272232</td>\n",
       "      <td>2826600</td>\n",
       "    </tr>\n",
       "    <tr>\n",
       "      <th>4</th>\n",
       "      <td>2012-05-04</td>\n",
       "      <td>206.470001</td>\n",
       "      <td>207.110001</td>\n",
       "      <td>204.399994</td>\n",
       "      <td>204.990005</td>\n",
       "      <td>169.412750</td>\n",
       "      <td>4023600</td>\n",
       "    </tr>\n",
       "  </tbody>\n",
       "</table>\n",
       "</div>"
      ],
      "text/plain": [
       "         Date        Open        High         Low       Close   Adj Close  \\\n",
       "0  2012-04-30  206.710007  207.960007  206.320007  207.080002  171.139999   \n",
       "1  2012-05-01  207.179993  208.929993  206.710007  208.000000  171.900360   \n",
       "2  2012-05-02  206.970001  208.270004  206.910004  208.059998  171.949890   \n",
       "3  2012-05-03  208.270004  208.919998  206.550003  207.240005  171.272232   \n",
       "4  2012-05-04  206.470001  207.110001  204.399994  204.990005  169.412750   \n",
       "\n",
       "    Volume  \n",
       "0  2773200  \n",
       "1  2715900  \n",
       "2  2360300  \n",
       "3  2826600  \n",
       "4  4023600  "
      ]
     },
     "execution_count": 3,
     "metadata": {},
     "output_type": "execute_result"
    }
   ],
   "source": [
    "dataset.head()"
   ]
  },
  {
   "cell_type": "code",
   "execution_count": 15,
   "metadata": {},
   "outputs": [
    {
     "data": {
      "text/plain": [
       "['Date', 'Open', 'High', 'Low', 'Close', 'Adj Close', 'Volume']"
      ]
     },
     "execution_count": 15,
     "metadata": {},
     "output_type": "execute_result"
    }
   ],
   "source": [
    "col_list = dataset.columns.tolist()\n",
    "col_list"
   ]
  },
  {
   "cell_type": "code",
   "execution_count": 33,
   "metadata": {},
   "outputs": [
    {
     "data": {
      "text/plain": [
       "['Open', 'High', 'Low', 'Adj Close', 'Volume', 'Close']"
      ]
     },
     "execution_count": 33,
     "metadata": {},
     "output_type": "execute_result"
    }
   ],
   "source": [
    "col_list.remove('Close')\n",
    "col_list.remove('Date')\n",
    "col_list.append('Close')\n",
    "col_list"
   ]
  },
  {
   "cell_type": "code",
   "execution_count": 34,
   "metadata": {},
   "outputs": [
    {
     "data": {
      "text/html": [
       "<div>\n",
       "<style scoped>\n",
       "    .dataframe tbody tr th:only-of-type {\n",
       "        vertical-align: middle;\n",
       "    }\n",
       "\n",
       "    .dataframe tbody tr th {\n",
       "        vertical-align: top;\n",
       "    }\n",
       "\n",
       "    .dataframe thead th {\n",
       "        text-align: right;\n",
       "    }\n",
       "</style>\n",
       "<table border=\"1\" class=\"dataframe\">\n",
       "  <thead>\n",
       "    <tr style=\"text-align: right;\">\n",
       "      <th></th>\n",
       "      <th>Open</th>\n",
       "      <th>High</th>\n",
       "      <th>Low</th>\n",
       "      <th>Adj Close</th>\n",
       "      <th>Volume</th>\n",
       "      <th>Close</th>\n",
       "    </tr>\n",
       "  </thead>\n",
       "  <tbody>\n",
       "    <tr>\n",
       "      <th>0</th>\n",
       "      <td>206.710007</td>\n",
       "      <td>207.960007</td>\n",
       "      <td>206.320007</td>\n",
       "      <td>171.139999</td>\n",
       "      <td>2773200</td>\n",
       "      <td>207.080002</td>\n",
       "    </tr>\n",
       "    <tr>\n",
       "      <th>1</th>\n",
       "      <td>207.179993</td>\n",
       "      <td>208.929993</td>\n",
       "      <td>206.710007</td>\n",
       "      <td>171.900360</td>\n",
       "      <td>2715900</td>\n",
       "      <td>208.000000</td>\n",
       "    </tr>\n",
       "    <tr>\n",
       "      <th>2</th>\n",
       "      <td>206.970001</td>\n",
       "      <td>208.270004</td>\n",
       "      <td>206.910004</td>\n",
       "      <td>171.949890</td>\n",
       "      <td>2360300</td>\n",
       "      <td>208.059998</td>\n",
       "    </tr>\n",
       "    <tr>\n",
       "      <th>3</th>\n",
       "      <td>208.270004</td>\n",
       "      <td>208.919998</td>\n",
       "      <td>206.550003</td>\n",
       "      <td>171.272232</td>\n",
       "      <td>2826600</td>\n",
       "      <td>207.240005</td>\n",
       "    </tr>\n",
       "    <tr>\n",
       "      <th>4</th>\n",
       "      <td>206.470001</td>\n",
       "      <td>207.110001</td>\n",
       "      <td>204.399994</td>\n",
       "      <td>169.412750</td>\n",
       "      <td>4023600</td>\n",
       "      <td>204.990005</td>\n",
       "    </tr>\n",
       "  </tbody>\n",
       "</table>\n",
       "</div>"
      ],
      "text/plain": [
       "         Open        High         Low   Adj Close   Volume       Close\n",
       "0  206.710007  207.960007  206.320007  171.139999  2773200  207.080002\n",
       "1  207.179993  208.929993  206.710007  171.900360  2715900  208.000000\n",
       "2  206.970001  208.270004  206.910004  171.949890  2360300  208.059998\n",
       "3  208.270004  208.919998  206.550003  171.272232  2826600  207.240005\n",
       "4  206.470001  207.110001  204.399994  169.412750  4023600  204.990005"
      ]
     },
     "execution_count": 34,
     "metadata": {},
     "output_type": "execute_result"
    }
   ],
   "source": [
    "df = dataset[col_list]\n",
    "df.head()"
   ]
  },
  {
   "cell_type": "code",
   "execution_count": 35,
   "metadata": {},
   "outputs": [
    {
     "name": "stderr",
     "output_type": "stream",
     "text": [
      "c:\\users\\arpit\\appdata\\local\\programs\\python\\python36\\lib\\site-packages\\ipykernel_launcher.py:1: SettingWithCopyWarning: \n",
      "A value is trying to be set on a copy of a slice from a DataFrame.\n",
      "Try using .loc[row_indexer,col_indexer] = value instead\n",
      "\n",
      "See the caveats in the documentation: http://pandas.pydata.org/pandas-docs/stable/indexing.html#indexing-view-versus-copy\n",
      "  \"\"\"Entry point for launching an IPython kernel.\n"
     ]
    },
    {
     "data": {
      "text/html": [
       "<div>\n",
       "<style scoped>\n",
       "    .dataframe tbody tr th:only-of-type {\n",
       "        vertical-align: middle;\n",
       "    }\n",
       "\n",
       "    .dataframe tbody tr th {\n",
       "        vertical-align: top;\n",
       "    }\n",
       "\n",
       "    .dataframe thead th {\n",
       "        text-align: right;\n",
       "    }\n",
       "</style>\n",
       "<table border=\"1\" class=\"dataframe\">\n",
       "  <thead>\n",
       "    <tr style=\"text-align: right;\">\n",
       "      <th></th>\n",
       "      <th>Open</th>\n",
       "      <th>High</th>\n",
       "      <th>Low</th>\n",
       "      <th>Adj Close</th>\n",
       "      <th>Volume</th>\n",
       "      <th>Close</th>\n",
       "    </tr>\n",
       "  </thead>\n",
       "  <tbody>\n",
       "    <tr>\n",
       "      <th>0</th>\n",
       "      <td>206.710007</td>\n",
       "      <td>207.960007</td>\n",
       "      <td>206.320007</td>\n",
       "      <td>171.139999</td>\n",
       "      <td>2.7732</td>\n",
       "      <td>207.080002</td>\n",
       "    </tr>\n",
       "    <tr>\n",
       "      <th>1</th>\n",
       "      <td>207.179993</td>\n",
       "      <td>208.929993</td>\n",
       "      <td>206.710007</td>\n",
       "      <td>171.900360</td>\n",
       "      <td>2.7159</td>\n",
       "      <td>208.000000</td>\n",
       "    </tr>\n",
       "    <tr>\n",
       "      <th>2</th>\n",
       "      <td>206.970001</td>\n",
       "      <td>208.270004</td>\n",
       "      <td>206.910004</td>\n",
       "      <td>171.949890</td>\n",
       "      <td>2.3603</td>\n",
       "      <td>208.059998</td>\n",
       "    </tr>\n",
       "    <tr>\n",
       "      <th>3</th>\n",
       "      <td>208.270004</td>\n",
       "      <td>208.919998</td>\n",
       "      <td>206.550003</td>\n",
       "      <td>171.272232</td>\n",
       "      <td>2.8266</td>\n",
       "      <td>207.240005</td>\n",
       "    </tr>\n",
       "    <tr>\n",
       "      <th>4</th>\n",
       "      <td>206.470001</td>\n",
       "      <td>207.110001</td>\n",
       "      <td>204.399994</td>\n",
       "      <td>169.412750</td>\n",
       "      <td>4.0236</td>\n",
       "      <td>204.990005</td>\n",
       "    </tr>\n",
       "  </tbody>\n",
       "</table>\n",
       "</div>"
      ],
      "text/plain": [
       "         Open        High         Low   Adj Close  Volume       Close\n",
       "0  206.710007  207.960007  206.320007  171.139999  2.7732  207.080002\n",
       "1  207.179993  208.929993  206.710007  171.900360  2.7159  208.000000\n",
       "2  206.970001  208.270004  206.910004  171.949890  2.3603  208.059998\n",
       "3  208.270004  208.919998  206.550003  171.272232  2.8266  207.240005\n",
       "4  206.470001  207.110001  204.399994  169.412750  4.0236  204.990005"
      ]
     },
     "execution_count": 35,
     "metadata": {},
     "output_type": "execute_result"
    }
   ],
   "source": [
    "df['Volume'] = df['Volume'] / 1000000\n",
    "df.head()"
   ]
  },
  {
   "cell_type": "code",
   "execution_count": 36,
   "metadata": {},
   "outputs": [],
   "source": [
    "import  time\n",
    "import  math\n",
    "from keras.models import Sequential\n",
    "from keras.layers.core import Dense, Dropout, Activation\n",
    "from keras.layers.recurrent import LSTM\n",
    "import numpy as np\n",
    "import pandas as pd\n",
    "import sklearn.preprocessing as prep"
   ]
  },
  {
   "cell_type": "code",
   "execution_count": 37,
   "metadata": {},
   "outputs": [],
   "source": [
    "def standard_scaler(X_train, X_test):\n",
    "    train_samples, train_nx, train_ny = X_train.shape\n",
    "    test_samples, test_nx, test_ny = X_test.shape\n",
    "    \n",
    "    X_train = X_train.reshape((train_samples, train_nx * train_ny))\n",
    "    X_test = X_test.reshape((test_samples, test_nx * test_ny))\n",
    "    \n",
    "    preprocessor = prep.StandardScaler().fit(X_train)\n",
    "    X_train = preprocessor.transform(X_train)\n",
    "    X_test = preprocessor.transform(X_test)\n",
    "    \n",
    "    X_train = X_train.reshape((train_samples, train_nx, train_ny))\n",
    "    X_test = X_test.reshape((test_samples, test_nx, test_ny))\n",
    "    \n",
    "    return X_train, X_test"
   ]
  },
  {
   "cell_type": "code",
   "execution_count": 38,
   "metadata": {},
   "outputs": [],
   "source": [
    "def preprocess_data(stock, seq_len):\n",
    "    amount_of_features = len(stock.columns)\n",
    "    data = stock.as_matrix()\n",
    "    \n",
    "    sequence_length = seq_len + 1\n",
    "    result = []\n",
    "    for index in range(len(data) - sequence_length):\n",
    "        result.append(data[index : index + sequence_length])\n",
    "        \n",
    "    result = np.array(result)\n",
    "    row = round(0.9 * result.shape[0])\n",
    "    train = result[: int(row), :]\n",
    "    \n",
    "    train, result = standard_scaler(train, result)\n",
    "    \n",
    "    X_train = train[:, : -1]\n",
    "    y_train = train[:, -1][: ,-1]\n",
    "    X_test = result[int(row) :, : -1]\n",
    "    y_test = result[int(row) :, -1][ : ,-1]\n",
    "\n",
    "    X_train = np.reshape(X_train, (X_train.shape[0], X_train.shape[1], amount_of_features))\n",
    "    X_test = np.reshape(X_test, (X_test.shape[0], X_test.shape[1], amount_of_features))  \n",
    "\n",
    "    return [X_train, y_train, X_test, y_test]"
   ]
  },
  {
   "cell_type": "code",
   "execution_count": 62,
   "metadata": {},
   "outputs": [],
   "source": [
    "def build_model(layers):\n",
    "    model = Sequential()\n",
    "\n",
    "    # By setting return_sequences to True we are able to stack another LSTM layer\n",
    "    model.add(LSTM(\n",
    "        input_dim=layers[0],\n",
    "        output_dim=layers[1],\n",
    "        return_sequences=True))\n",
    "    model.add(Dropout(0.4))\n",
    "\n",
    "    model.add(LSTM(\n",
    "        layers[2],\n",
    "        return_sequences=False))\n",
    "    model.add(Dropout(0.3))\n",
    "\n",
    "    model.add(Dense(\n",
    "        output_dim=layers[3]))\n",
    "    model.add(Activation(\"linear\"))\n",
    "\n",
    "    start = time.time()\n",
    "    model.compile(loss=\"mse\", optimizer=\"rmsprop\", metrics=['accuracy'])\n",
    "    print(\"Compilation Time : \", time.time() - start)\n",
    "    return model"
   ]
  },
  {
   "cell_type": "code",
   "execution_count": 63,
   "metadata": {},
   "outputs": [
    {
     "name": "stdout",
     "output_type": "stream",
     "text": [
      "X_train (1339, 20, 6)\n",
      "y_train (1339,)\n",
      "X_test (149, 20, 6)\n",
      "y_test (149,)\n"
     ]
    }
   ],
   "source": [
    "window =  20\n",
    "X_train, y_train, X_test, y_test = preprocess_data(df[:: -1], window)\n",
    "print(\"X_train\", X_train.shape)\n",
    "print(\"y_train\", y_train.shape)\n",
    "print(\"X_test\", X_test.shape)\n",
    "print(\"y_test\", y_test.shape)"
   ]
  },
  {
   "cell_type": "code",
   "execution_count": 64,
   "metadata": {},
   "outputs": [
    {
     "name": "stderr",
     "output_type": "stream",
     "text": [
      "c:\\users\\arpit\\appdata\\local\\programs\\python\\python36\\lib\\site-packages\\ipykernel_launcher.py:8: UserWarning: The `input_dim` and `input_length` arguments in recurrent layers are deprecated. Use `input_shape` instead.\n",
      "  \n",
      "c:\\users\\arpit\\appdata\\local\\programs\\python\\python36\\lib\\site-packages\\ipykernel_launcher.py:8: UserWarning: Update your `LSTM` call to the Keras 2 API: `LSTM(return_sequences=True, input_shape=(None, 6), units=20)`\n",
      "  \n"
     ]
    },
    {
     "name": "stdout",
     "output_type": "stream",
     "text": [
      "Compilation Time :  0.031247377395629883\n"
     ]
    },
    {
     "name": "stderr",
     "output_type": "stream",
     "text": [
      "c:\\users\\arpit\\appdata\\local\\programs\\python\\python36\\lib\\site-packages\\ipykernel_launcher.py:17: UserWarning: Update your `Dense` call to the Keras 2 API: `Dense(units=1)`\n"
     ]
    }
   ],
   "source": [
    "model = build_model([X_train.shape[2], window, 100, 1])"
   ]
  },
  {
   "cell_type": "code",
   "execution_count": 65,
   "metadata": {},
   "outputs": [
    {
     "name": "stderr",
     "output_type": "stream",
     "text": [
      "c:\\users\\arpit\\appdata\\local\\programs\\python\\python36\\lib\\site-packages\\keras\\models.py:981: UserWarning: The `nb_epoch` argument in `fit` has been renamed `epochs`.\n",
      "  warnings.warn('The `nb_epoch` argument in `fit` '\n"
     ]
    },
    {
     "data": {
      "text/plain": [
       "<keras.callbacks.History at 0x1f1dc53ce10>"
      ]
     },
     "execution_count": 65,
     "metadata": {},
     "output_type": "execute_result"
    }
   ],
   "source": [
    "model.fit(\n",
    "    X_train,\n",
    "    y_train,\n",
    "    batch_size=768,\n",
    "    nb_epoch=300,\n",
    "    validation_split=0.1,\n",
    "    verbose=0)"
   ]
  },
  {
   "cell_type": "code",
   "execution_count": 66,
   "metadata": {},
   "outputs": [
    {
     "name": "stdout",
     "output_type": "stream",
     "text": [
      "Train Score: 0.04 MSE (0.19 RMSE)\n",
      "Test Score: 0.09 MSE (0.30 RMSE)\n"
     ]
    }
   ],
   "source": [
    "trainScore = model.evaluate(X_train, y_train, verbose=0)\n",
    "print('Train Score: %.2f MSE (%.2f RMSE)' % (trainScore[0], math.sqrt(trainScore[0])))\n",
    "\n",
    "testScore = model.evaluate(X_test, y_test, verbose=0)\n",
    "print('Test Score: %.2f MSE (%.2f RMSE)' % (testScore[0], math.sqrt(testScore[0])))"
   ]
  },
  {
   "cell_type": "code",
   "execution_count": 67,
   "metadata": {},
   "outputs": [],
   "source": [
    "diff = []\n",
    "ratio = []\n",
    "pred = model.predict(X_test)\n",
    "for u in range(len(y_test)):\n",
    "    pr = pred[u][0]\n",
    "    ratio.append((y_test[u] / pr) - 1)\n",
    "    diff.append(abs(y_test[u] - pr))"
   ]
  },
  {
   "cell_type": "code",
   "execution_count": 68,
   "metadata": {},
   "outputs": [
    {
     "data": {
      "image/png": "[encoded data removed]",
      "text/plain": [
       "<matplotlib.figure.Figure at 0x1f1dd8cbc50>"
      ]
     },
     "metadata": {},
     "output_type": "display_data"
    }
   ],
   "source": [
    "import  matplotlib.pyplot  as plt2\n",
    "\n",
    "plt2.plot(pred, color='red', label='Prediction')\n",
    "plt2.plot(y_test, color='blue', label='Ground Truth')\n",
    "plt2.legend(loc='upper left')\n",
    "plt2.show()"
   ]
  },
  {
   "cell_type": "code",
   "execution_count": null,
   "metadata": {},
   "outputs": [],
   "source": []
  }
 ],
 "metadata": {
  "kernelspec": {
   "display_name": "Python 3",
   "language": "python",
   "name": "python3"
  },
  "language_info": {
   "codemirror_mode": {
    "name": "ipython",
    "version": 3
   },
   "file_extension": ".py",
   "mimetype": "text/x-python",
   "name": "python",
   "nbconvert_exporter": "python",
   "pygments_lexer": "ipython3",
   "version": "3.6.2"
  }
 },
 "nbformat": 4,
 "nbformat_minor": 2
}
